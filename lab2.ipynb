{
  "nbformat": 4,
  "nbformat_minor": 0,
  "metadata": {
    "colab": {
      "name": "lab2.ipynb",
      "provenance": [],
      "collapsed_sections": [],
      "include_colab_link": true
    },
    "language_info": {
      "name": "python"
    },
    "kernelspec": {
      "name": "python3",
      "display_name": "Python 3"
    }
  },
  "cells": [
    {
      "cell_type": "markdown",
      "metadata": {
        "id": "view-in-github",
        "colab_type": "text"
      },
      "source": [
        "<a href=\"https://colab.research.google.com/github/meowkatya/lab1/blob/main/lab2.ipynb\" target=\"_parent\"><img src=\"https://colab.research.google.com/assets/colab-badge.svg\" alt=\"Open In Colab\"/></a>"
      ]
    },
    {
      "cell_type": "markdown",
      "metadata": {
        "id": "8n9K8NduQ4lI"
      },
      "source": [
        "## Прогнозирование цен на жилье с помощью нейросетевой регрессионной модели\n",
        "\n",
        "Необходимо по имеющимся данным о ценах на жильё предсказать окончательную цену каждого дома с учетом характеристик домов с использованием нейронной сети. Описание набора данных  содержит 80 классов (набор переменых) классификации оценки типа жилья, и находится в файле `data_description.txt`.\n",
        "\n",
        "В работе требуется дополнить раздел «Моделирование» в подразделе «Построение и обучение модели» создать и инициализировать последовательную модель нейронной сети с помощью фрэймворков тренировки нейронных сетей как: Torch или Tensorflow. Скомпилировать нейронную сеть выбрав функцию потерь и оптимизатор соответственно. Оценить точность полученных результатов. Вывести предсказанные данные о продаже. \n",
        "\n",
        "\n",
        "### Импорт библиотек\n",
        "Импортируем необходимые библиотеки:"
      ]
    },
    {
      "cell_type": "code",
      "metadata": {
        "id": "sLbQ2TVnQ4lO"
      },
      "source": [
        "import numpy as np\n",
        "import pandas as pd\n",
        "import matplotlib.pyplot as plt\n",
        "import tensorflow as tf\n",
        "from tensorflow import keras\n",
        "from tensorflow.keras import layers\n",
        "from sklearn.model_selection import train_test_split"
      ],
      "execution_count": 48,
      "outputs": []
    },
    {
      "cell_type": "markdown",
      "metadata": {
        "id": "OVE0MPccQ4lR"
      },
      "source": [
        "### Считываем набор данных\n",
        "\n",
        "\n",
        "Загрузим набор данных и присвоим следующими переменные:\n",
        "\n",
        "* `train_data`: данные, используемые для обучения модели\n",
        "* `test_data`: данные, используемые для проверки модели"
      ]
    },
    {
      "cell_type": "code",
      "metadata": {
        "id": "wO0hfo89Q4lS"
      },
      "source": [
        "train_data = pd.read_csv('/content/data/notebook_files/test.csv') \n",
        "test_data = pd.read_csv('/content/data/notebook_files/train.csv')"
      ],
      "execution_count": 49,
      "outputs": []
    },
    {
      "cell_type": "markdown",
      "metadata": {
        "id": "nvMeg2V-Q4lT"
      },
      "source": [
        "## Подготовка данных\n",
        "### Отобразим обучающие и проверочные данные:"
      ]
    },
    {
      "cell_type": "code",
      "metadata": {
        "colab": {
          "base_uri": "https://localhost:8080/"
        },
        "id": "ipG8vFanQ4lT",
        "outputId": "9b7e091b-fa74-476d-f0d3-8bb80eeedd33"
      },
      "source": [
        "print(train_data.head())"
      ],
      "execution_count": 50,
      "outputs": [
        {
          "output_type": "stream",
          "name": "stdout",
          "text": [
            "   Id  MSSubClass MSZoning  ...  SaleType  SaleCondition SalePrice\n",
            "0   1          60       RL  ...        WD         Normal    208500\n",
            "1   2          20       RL  ...        WD         Normal    181500\n",
            "2   3          60       RL  ...        WD         Normal    223500\n",
            "3   4          70       RL  ...        WD        Abnorml    140000\n",
            "4   5          60       RL  ...        WD         Normal    250000\n",
            "\n",
            "[5 rows x 81 columns]\n"
          ]
        }
      ]
    },
    {
      "cell_type": "code",
      "metadata": {
        "colab": {
          "base_uri": "https://localhost:8080/"
        },
        "id": "k1zXJ_RsQ4lU",
        "outputId": "6ba11da4-371c-411f-9f59-0856898c0ca2"
      },
      "source": [
        "print(test_data.head())"
      ],
      "execution_count": 51,
      "outputs": [
        {
          "output_type": "stream",
          "name": "stdout",
          "text": [
            "     Id  MSSubClass MSZoning  ...  YrSold  SaleType SaleCondition\n",
            "0  1461          20       RH  ...    2010        WD        Normal\n",
            "1  1462          20       RL  ...    2010        WD        Normal\n",
            "2  1463          60       RL  ...    2010        WD        Normal\n",
            "3  1464          60       RL  ...    2010        WD        Normal\n",
            "4  1465         120       RL  ...    2010        WD        Normal\n",
            "\n",
            "[5 rows x 80 columns]\n"
          ]
        }
      ]
    },
    {
      "cell_type": "markdown",
      "metadata": {
        "id": "Q3DZ1lxiQ4lU"
      },
      "source": [
        "Как можно видеть, `train_data` имеет на один столбец больше, чем `test_data`, это столбец `SalePrice`, для обучения модели перед применением ее для предсказания меток в test_data."
      ]
    },
    {
      "cell_type": "markdown",
      "metadata": {
        "id": "ISByfPzgQ4lV"
      },
      "source": [
        "### Проверяем нет ли тестовые данные пустых значений значений (Nan)\n",
        "\n",
        "Построим функцию `def missing_value_checker` для проверки и подсчёта пропущеных значений в test_data. А также выведем тип данных этих значений.\n"
      ]
    },
    {
      "cell_type": "code",
      "metadata": {
        "colab": {
          "base_uri": "https://localhost:8080/"
        },
        "id": "DRuv9Cx5Q4lW",
        "outputId": "01af6912-07a9-4a47-9ab7-6dc3a60553b5"
      },
      "source": [
        "def missing_value_checker(data):\n",
        "    list = []\n",
        "    for feature, content in data.items():\n",
        "        if data[feature].isnull().values.any():\n",
        "            \n",
        "            sum = data[feature].isna().sum()\n",
        "\n",
        "            type = data[feature].dtype\n",
        "\n",
        "            print (f'{feature}: {sum}, type: {type}')\n",
        "            \n",
        "            list.append(feature)\n",
        "    print(list)\n",
        "\n",
        "    print(len(list))\n",
        "\n",
        "missing_value_checker(test_data)"
      ],
      "execution_count": 52,
      "outputs": [
        {
          "output_type": "stream",
          "name": "stdout",
          "text": [
            "MSZoning: 4, type: object\n",
            "LotFrontage: 227, type: float64\n",
            "Alley: 1352, type: object\n",
            "Utilities: 2, type: object\n",
            "Exterior1st: 1, type: object\n",
            "Exterior2nd: 1, type: object\n",
            "MasVnrType: 16, type: object\n",
            "MasVnrArea: 15, type: float64\n",
            "BsmtQual: 44, type: object\n",
            "BsmtCond: 45, type: object\n",
            "BsmtExposure: 44, type: object\n",
            "BsmtFinType1: 42, type: object\n",
            "BsmtFinSF1: 1, type: float64\n",
            "BsmtFinType2: 42, type: object\n",
            "BsmtFinSF2: 1, type: float64\n",
            "BsmtUnfSF: 1, type: float64\n",
            "TotalBsmtSF: 1, type: float64\n",
            "BsmtFullBath: 2, type: float64\n",
            "BsmtHalfBath: 2, type: float64\n",
            "KitchenQual: 1, type: object\n",
            "Functional: 2, type: object\n",
            "FireplaceQu: 730, type: object\n",
            "GarageType: 76, type: object\n",
            "GarageYrBlt: 78, type: float64\n",
            "GarageFinish: 78, type: object\n",
            "GarageCars: 1, type: float64\n",
            "GarageArea: 1, type: float64\n",
            "GarageQual: 78, type: object\n",
            "GarageCond: 78, type: object\n",
            "PoolQC: 1456, type: object\n",
            "Fence: 1169, type: object\n",
            "MiscFeature: 1408, type: object\n",
            "SaleType: 1, type: object\n",
            "['MSZoning', 'LotFrontage', 'Alley', 'Utilities', 'Exterior1st', 'Exterior2nd', 'MasVnrType', 'MasVnrArea', 'BsmtQual', 'BsmtCond', 'BsmtExposure', 'BsmtFinType1', 'BsmtFinSF1', 'BsmtFinType2', 'BsmtFinSF2', 'BsmtUnfSF', 'TotalBsmtSF', 'BsmtFullBath', 'BsmtHalfBath', 'KitchenQual', 'Functional', 'FireplaceQu', 'GarageType', 'GarageYrBlt', 'GarageFinish', 'GarageCars', 'GarageArea', 'GarageQual', 'GarageCond', 'PoolQC', 'Fence', 'MiscFeature', 'SaleType']\n",
            "33\n"
          ]
        }
      ]
    },
    {
      "cell_type": "markdown",
      "metadata": {
        "id": "xXX0tJI8Q4lX"
      },
      "source": [
        "Проверяем какие признаки в таблице можно оставить, а какие удалить. Если пропущенных значений слишком много, то удалим признак. Если их небольшое количество, то заполним `mean` или `median` для чисел, новая категория `missing` для строковых объектов.\n",
        "\n",
        "В соответствии с этим:\n",
        "\n",
        "– удалим ['Alley', 'FireplaceQu', 'PoolQC', 'Fence', 'MiscFeature'];\n",
        "\n",
        "– заполним числовое отсутствующее значение значением `mean`;\n",
        "\n",
        "– заполним строковое отсутствующее значение значением `missing`."
      ]
    },
    {
      "cell_type": "code",
      "metadata": {
        "id": "fG2OO8mjQ4lY"
      },
      "source": [
        "test_edited = test_data.drop(['Alley','FireplaceQu','PoolQC', 'Fence', 'MiscFeature'], axis=1)\n",
        "train_edited = train_data.drop(['Alley','FireplaceQu','PoolQC', 'Fence', 'MiscFeature'], axis=1)\n",
        "\n",
        "def nan_filler(data):\n",
        "    for label, content in data.items():\n",
        "        if pd.api.types.is_numeric_dtype(content):\n",
        "            data[label] = content.fillna(content.median())\n",
        "        else:\n",
        "            data[label] = content.astype(\"category\").cat.as_ordered()\n",
        "            data[label] = pd.Categorical(content).codes+1\n",
        "\n",
        "nan_filler(test_edited)\n",
        "nan_filler(train_edited)"
      ],
      "execution_count": 53,
      "outputs": []
    },
    {
      "cell_type": "markdown",
      "metadata": {
        "id": "DbdVt8d0Q4lZ"
      },
      "source": [
        "### Перепроверим наши данные:"
      ]
    },
    {
      "cell_type": "code",
      "metadata": {
        "colab": {
          "base_uri": "https://localhost:8080/"
        },
        "id": "iu7KqyRgQ4lZ",
        "outputId": "2a49fca7-de0b-4d9c-c394-16fc6d6620f9"
      },
      "source": [
        "missing_value_checker(test_edited)"
      ],
      "execution_count": 54,
      "outputs": [
        {
          "output_type": "stream",
          "name": "stdout",
          "text": [
            "[]\n",
            "0\n"
          ]
        }
      ]
    },
    {
      "cell_type": "code",
      "metadata": {
        "colab": {
          "base_uri": "https://localhost:8080/"
        },
        "id": "9Bh35P_hQ4la",
        "outputId": "b7151dc7-27df-4e01-94ab-9c05074bcd23"
      },
      "source": [
        "missing_value_checker(train_edited)"
      ],
      "execution_count": 55,
      "outputs": [
        {
          "output_type": "stream",
          "name": "stdout",
          "text": [
            "[]\n",
            "0\n"
          ]
        }
      ]
    },
    {
      "cell_type": "code",
      "metadata": {
        "colab": {
          "base_uri": "https://localhost:8080/"
        },
        "id": "yrUaiRAtQ4la",
        "outputId": "c600f853-63a3-4760-be22-2b0dddb63152"
      },
      "source": [
        "train_edited.shape, test_edited.shape"
      ],
      "execution_count": 56,
      "outputs": [
        {
          "output_type": "execute_result",
          "data": {
            "text/plain": [
              "((1460, 76), (1459, 75))"
            ]
          },
          "metadata": {},
          "execution_count": 56
        }
      ]
    },
    {
      "cell_type": "code",
      "metadata": {
        "colab": {
          "base_uri": "https://localhost:8080/"
        },
        "id": "7cg3mZ04Q4lb",
        "outputId": "1488a498-5d32-4a67-f95a-735652b96e92"
      },
      "source": [
        "test_edited.info()"
      ],
      "execution_count": 57,
      "outputs": [
        {
          "output_type": "stream",
          "name": "stdout",
          "text": [
            "<class 'pandas.core.frame.DataFrame'>\n",
            "RangeIndex: 1459 entries, 0 to 1458\n",
            "Data columns (total 75 columns):\n",
            " #   Column         Non-Null Count  Dtype  \n",
            "---  ------         --------------  -----  \n",
            " 0   Id             1459 non-null   int64  \n",
            " 1   MSSubClass     1459 non-null   int64  \n",
            " 2   MSZoning       1459 non-null   int8   \n",
            " 3   LotFrontage    1459 non-null   float64\n",
            " 4   LotArea        1459 non-null   int64  \n",
            " 5   Street         1459 non-null   int8   \n",
            " 6   LotShape       1459 non-null   int8   \n",
            " 7   LandContour    1459 non-null   int8   \n",
            " 8   Utilities      1459 non-null   int8   \n",
            " 9   LotConfig      1459 non-null   int8   \n",
            " 10  LandSlope      1459 non-null   int8   \n",
            " 11  Neighborhood   1459 non-null   int8   \n",
            " 12  Condition1     1459 non-null   int8   \n",
            " 13  Condition2     1459 non-null   int8   \n",
            " 14  BldgType       1459 non-null   int8   \n",
            " 15  HouseStyle     1459 non-null   int8   \n",
            " 16  OverallQual    1459 non-null   int64  \n",
            " 17  OverallCond    1459 non-null   int64  \n",
            " 18  YearBuilt      1459 non-null   int64  \n",
            " 19  YearRemodAdd   1459 non-null   int64  \n",
            " 20  RoofStyle      1459 non-null   int8   \n",
            " 21  RoofMatl       1459 non-null   int8   \n",
            " 22  Exterior1st    1459 non-null   int8   \n",
            " 23  Exterior2nd    1459 non-null   int8   \n",
            " 24  MasVnrType     1459 non-null   int8   \n",
            " 25  MasVnrArea     1459 non-null   float64\n",
            " 26  ExterQual      1459 non-null   int8   \n",
            " 27  ExterCond      1459 non-null   int8   \n",
            " 28  Foundation     1459 non-null   int8   \n",
            " 29  BsmtQual       1459 non-null   int8   \n",
            " 30  BsmtCond       1459 non-null   int8   \n",
            " 31  BsmtExposure   1459 non-null   int8   \n",
            " 32  BsmtFinType1   1459 non-null   int8   \n",
            " 33  BsmtFinSF1     1459 non-null   float64\n",
            " 34  BsmtFinType2   1459 non-null   int8   \n",
            " 35  BsmtFinSF2     1459 non-null   float64\n",
            " 36  BsmtUnfSF      1459 non-null   float64\n",
            " 37  TotalBsmtSF    1459 non-null   float64\n",
            " 38  Heating        1459 non-null   int8   \n",
            " 39  HeatingQC      1459 non-null   int8   \n",
            " 40  CentralAir     1459 non-null   int8   \n",
            " 41  Electrical     1459 non-null   int8   \n",
            " 42  1stFlrSF       1459 non-null   int64  \n",
            " 43  2ndFlrSF       1459 non-null   int64  \n",
            " 44  LowQualFinSF   1459 non-null   int64  \n",
            " 45  GrLivArea      1459 non-null   int64  \n",
            " 46  BsmtFullBath   1459 non-null   float64\n",
            " 47  BsmtHalfBath   1459 non-null   float64\n",
            " 48  FullBath       1459 non-null   int64  \n",
            " 49  HalfBath       1459 non-null   int64  \n",
            " 50  BedroomAbvGr   1459 non-null   int64  \n",
            " 51  KitchenAbvGr   1459 non-null   int64  \n",
            " 52  KitchenQual    1459 non-null   int8   \n",
            " 53  TotRmsAbvGrd   1459 non-null   int64  \n",
            " 54  Functional     1459 non-null   int8   \n",
            " 55  Fireplaces     1459 non-null   int64  \n",
            " 56  GarageType     1459 non-null   int8   \n",
            " 57  GarageYrBlt    1459 non-null   float64\n",
            " 58  GarageFinish   1459 non-null   int8   \n",
            " 59  GarageCars     1459 non-null   float64\n",
            " 60  GarageArea     1459 non-null   float64\n",
            " 61  GarageQual     1459 non-null   int8   \n",
            " 62  GarageCond     1459 non-null   int8   \n",
            " 63  PavedDrive     1459 non-null   int8   \n",
            " 64  WoodDeckSF     1459 non-null   int64  \n",
            " 65  OpenPorchSF    1459 non-null   int64  \n",
            " 66  EnclosedPorch  1459 non-null   int64  \n",
            " 67  3SsnPorch      1459 non-null   int64  \n",
            " 68  ScreenPorch    1459 non-null   int64  \n",
            " 69  PoolArea       1459 non-null   int64  \n",
            " 70  MiscVal        1459 non-null   int64  \n",
            " 71  MoSold         1459 non-null   int64  \n",
            " 72  YrSold         1459 non-null   int64  \n",
            " 73  SaleType       1459 non-null   int8   \n",
            " 74  SaleCondition  1459 non-null   int8   \n",
            "dtypes: float64(11), int64(26), int8(38)\n",
            "memory usage: 476.0 KB\n"
          ]
        }
      ]
    },
    {
      "cell_type": "code",
      "metadata": {
        "colab": {
          "base_uri": "https://localhost:8080/"
        },
        "id": "zIufRaGSQ4lc",
        "outputId": "b8a6f739-6bca-417e-a44c-e6297c8b70c0"
      },
      "source": [
        "train_edited.info()"
      ],
      "execution_count": 58,
      "outputs": [
        {
          "output_type": "stream",
          "name": "stdout",
          "text": [
            "<class 'pandas.core.frame.DataFrame'>\n",
            "RangeIndex: 1460 entries, 0 to 1459\n",
            "Data columns (total 76 columns):\n",
            " #   Column         Non-Null Count  Dtype  \n",
            "---  ------         --------------  -----  \n",
            " 0   Id             1460 non-null   int64  \n",
            " 1   MSSubClass     1460 non-null   int64  \n",
            " 2   MSZoning       1460 non-null   int8   \n",
            " 3   LotFrontage    1460 non-null   float64\n",
            " 4   LotArea        1460 non-null   int64  \n",
            " 5   Street         1460 non-null   int8   \n",
            " 6   LotShape       1460 non-null   int8   \n",
            " 7   LandContour    1460 non-null   int8   \n",
            " 8   Utilities      1460 non-null   int8   \n",
            " 9   LotConfig      1460 non-null   int8   \n",
            " 10  LandSlope      1460 non-null   int8   \n",
            " 11  Neighborhood   1460 non-null   int8   \n",
            " 12  Condition1     1460 non-null   int8   \n",
            " 13  Condition2     1460 non-null   int8   \n",
            " 14  BldgType       1460 non-null   int8   \n",
            " 15  HouseStyle     1460 non-null   int8   \n",
            " 16  OverallQual    1460 non-null   int64  \n",
            " 17  OverallCond    1460 non-null   int64  \n",
            " 18  YearBuilt      1460 non-null   int64  \n",
            " 19  YearRemodAdd   1460 non-null   int64  \n",
            " 20  RoofStyle      1460 non-null   int8   \n",
            " 21  RoofMatl       1460 non-null   int8   \n",
            " 22  Exterior1st    1460 non-null   int8   \n",
            " 23  Exterior2nd    1460 non-null   int8   \n",
            " 24  MasVnrType     1460 non-null   int8   \n",
            " 25  MasVnrArea     1460 non-null   float64\n",
            " 26  ExterQual      1460 non-null   int8   \n",
            " 27  ExterCond      1460 non-null   int8   \n",
            " 28  Foundation     1460 non-null   int8   \n",
            " 29  BsmtQual       1460 non-null   int8   \n",
            " 30  BsmtCond       1460 non-null   int8   \n",
            " 31  BsmtExposure   1460 non-null   int8   \n",
            " 32  BsmtFinType1   1460 non-null   int8   \n",
            " 33  BsmtFinSF1     1460 non-null   int64  \n",
            " 34  BsmtFinType2   1460 non-null   int8   \n",
            " 35  BsmtFinSF2     1460 non-null   int64  \n",
            " 36  BsmtUnfSF      1460 non-null   int64  \n",
            " 37  TotalBsmtSF    1460 non-null   int64  \n",
            " 38  Heating        1460 non-null   int8   \n",
            " 39  HeatingQC      1460 non-null   int8   \n",
            " 40  CentralAir     1460 non-null   int8   \n",
            " 41  Electrical     1460 non-null   int8   \n",
            " 42  1stFlrSF       1460 non-null   int64  \n",
            " 43  2ndFlrSF       1460 non-null   int64  \n",
            " 44  LowQualFinSF   1460 non-null   int64  \n",
            " 45  GrLivArea      1460 non-null   int64  \n",
            " 46  BsmtFullBath   1460 non-null   int64  \n",
            " 47  BsmtHalfBath   1460 non-null   int64  \n",
            " 48  FullBath       1460 non-null   int64  \n",
            " 49  HalfBath       1460 non-null   int64  \n",
            " 50  BedroomAbvGr   1460 non-null   int64  \n",
            " 51  KitchenAbvGr   1460 non-null   int64  \n",
            " 52  KitchenQual    1460 non-null   int8   \n",
            " 53  TotRmsAbvGrd   1460 non-null   int64  \n",
            " 54  Functional     1460 non-null   int8   \n",
            " 55  Fireplaces     1460 non-null   int64  \n",
            " 56  GarageType     1460 non-null   int8   \n",
            " 57  GarageYrBlt    1460 non-null   float64\n",
            " 58  GarageFinish   1460 non-null   int8   \n",
            " 59  GarageCars     1460 non-null   int64  \n",
            " 60  GarageArea     1460 non-null   int64  \n",
            " 61  GarageQual     1460 non-null   int8   \n",
            " 62  GarageCond     1460 non-null   int8   \n",
            " 63  PavedDrive     1460 non-null   int8   \n",
            " 64  WoodDeckSF     1460 non-null   int64  \n",
            " 65  OpenPorchSF    1460 non-null   int64  \n",
            " 66  EnclosedPorch  1460 non-null   int64  \n",
            " 67  3SsnPorch      1460 non-null   int64  \n",
            " 68  ScreenPorch    1460 non-null   int64  \n",
            " 69  PoolArea       1460 non-null   int64  \n",
            " 70  MiscVal        1460 non-null   int64  \n",
            " 71  MoSold         1460 non-null   int64  \n",
            " 72  YrSold         1460 non-null   int64  \n",
            " 73  SaleType       1460 non-null   int8   \n",
            " 74  SaleCondition  1460 non-null   int8   \n",
            " 75  SalePrice      1460 non-null   int64  \n",
            "dtypes: float64(3), int64(35), int8(38)\n",
            "memory usage: 487.7 KB\n"
          ]
        }
      ]
    },
    {
      "cell_type": "markdown",
      "metadata": {
        "id": "yUnAQtXzQ4lc"
      },
      "source": [
        "### Разделим данные\n",
        "\n",
        "Поскольку мы не знаем метку (Цена) тестовых данных, для оценки модели, чтобы получить лучшую модель перед прогнозированием тестовых данных, разделим данные в файле train.scv на обучающие и проверочные данные, соотношение составляет 20%."
      ]
    },
    {
      "cell_type": "code",
      "metadata": {
        "id": "eKJl0zfeQ4ld"
      },
      "source": [
        "X = train_edited.drop('SalePrice', axis=1)\n",
        "y = train_edited['SalePrice']\n",
        "\n",
        "X_train, X_val, y_train, y_val = train_test_split(X, y, test_size = 0.2)\n"
      ],
      "execution_count": 59,
      "outputs": []
    },
    {
      "cell_type": "code",
      "metadata": {
        "colab": {
          "base_uri": "https://localhost:8080/"
        },
        "id": "VTrwV--EQ4le",
        "outputId": "b72b96a7-d68e-46e0-92c2-d4774fca8b81"
      },
      "source": [
        "X_train.shape, test_edited.shape"
      ],
      "execution_count": 60,
      "outputs": [
        {
          "output_type": "execute_result",
          "data": {
            "text/plain": [
              "((1168, 75), (1459, 75))"
            ]
          },
          "metadata": {},
          "execution_count": 60
        }
      ]
    },
    {
      "cell_type": "markdown",
      "metadata": {
        "id": "QNaHH0kWQ4lf"
      },
      "source": [
        "## Моделирование"
      ]
    },
    {
      "cell_type": "markdown",
      "metadata": {
        "id": "E-vMK08lQ4lf"
      },
      "source": [
        "### Построение и обучение модели"
      ]
    },
    {
      "cell_type": "markdown",
      "metadata": {
        "id": "NYDVctDUQ4lg"
      },
      "source": [
        "\n",
        "Создайте последовательную модель нейронной сети с помощью фрэймворков тренировки нейронных сетей как: Torch или Tensorflow. "
      ]
    },
    {
      "cell_type": "code",
      "metadata": {
        "id": "JQF0TvHYQ4lg"
      },
      "source": [
        "model = keras.Sequential([\n",
        "    layers.Dense(150, activation='relu'),\n",
        "    layers.Dense(100, activation='relu'),\n",
        "    layers.Dense(1)\n",
        "])"
      ],
      "execution_count": 77,
      "outputs": []
    },
    {
      "cell_type": "markdown",
      "metadata": {
        "id": "tmKTpTZ4Q4lh"
      },
      "source": [
        "Скомпилируйте нейронную сеть, выбрав функцию потерь и оптимизатор соответственно."
      ]
    },
    {
      "cell_type": "code",
      "metadata": {
        "id": "UajojdHGQ4lh"
      },
      "source": [
        "model.compile(loss='mean_squared_error', optimizer=tf.keras.optimizers.Adam(0.01), metrics=['mae'])"
      ],
      "execution_count": 78,
      "outputs": []
    },
    {
      "cell_type": "markdown",
      "metadata": {
        "id": "LJa08dpHQ4lh"
      },
      "source": [
        "Обучите модель на обучающих данных `X_train` и `y_train` задав гиперпараметры вашей модели нейронной сети, например количество эпох (epochs), размер мини-выборки (batch_size) и другие."
      ]
    },
    {
      "cell_type": "code",
      "metadata": {
        "id": "IyxsL5-uQ4li",
        "colab": {
          "base_uri": "https://localhost:8080/"
        },
        "outputId": "37dd4ee9-e62b-429e-b8f3-a4b1a30a778b"
      },
      "source": [
        "history = model.fit(X, y, validation_split=0.2, verbose=1, epochs=40, batch_size=100)"
      ],
      "execution_count": 79,
      "outputs": [
        {
          "output_type": "stream",
          "name": "stdout",
          "text": [
            "Epoch 1/40\n",
            "12/12 [==============================] - 1s 25ms/step - loss: 21724180480.0000 - mae: 115635.2031 - val_loss: 9358500864.0000 - val_mae: 67670.6172\n",
            "Epoch 2/40\n",
            "12/12 [==============================] - 0s 4ms/step - loss: 9947482112.0000 - mae: 54551.1836 - val_loss: 4888838144.0000 - val_mae: 43880.9414\n",
            "Epoch 3/40\n",
            "12/12 [==============================] - 0s 5ms/step - loss: 4222254080.0000 - mae: 47415.2383 - val_loss: 4156203008.0000 - val_mae: 43480.9062\n",
            "Epoch 4/40\n",
            "12/12 [==============================] - 0s 7ms/step - loss: 3646897152.0000 - mae: 39690.9023 - val_loss: 4306401280.0000 - val_mae: 48645.5273\n",
            "Epoch 5/40\n",
            "12/12 [==============================] - 0s 5ms/step - loss: 3113831936.0000 - mae: 41443.6523 - val_loss: 3679907584.0000 - val_mae: 38096.8750\n",
            "Epoch 6/40\n",
            "12/12 [==============================] - 0s 5ms/step - loss: 2684404736.0000 - mae: 36784.3203 - val_loss: 3649569280.0000 - val_mae: 40879.9023\n",
            "Epoch 7/40\n",
            "12/12 [==============================] - 0s 5ms/step - loss: 2375275008.0000 - mae: 34021.4961 - val_loss: 3408238336.0000 - val_mae: 36367.6992\n",
            "Epoch 8/40\n",
            "12/12 [==============================] - 0s 7ms/step - loss: 2107910912.0000 - mae: 31666.1738 - val_loss: 3246403328.0000 - val_mae: 32164.5371\n",
            "Epoch 9/40\n",
            "12/12 [==============================] - 0s 7ms/step - loss: 1884541312.0000 - mae: 29469.5352 - val_loss: 3332939776.0000 - val_mae: 31414.0762\n",
            "Epoch 10/40\n",
            "12/12 [==============================] - 0s 5ms/step - loss: 1718040320.0000 - mae: 27605.5957 - val_loss: 3469203712.0000 - val_mae: 30976.7324\n",
            "Epoch 11/40\n",
            "12/12 [==============================] - 0s 7ms/step - loss: 1648748416.0000 - mae: 27109.6230 - val_loss: 3695348736.0000 - val_mae: 31188.5508\n",
            "Epoch 12/40\n",
            "12/12 [==============================] - 0s 5ms/step - loss: 1643322880.0000 - mae: 27016.3848 - val_loss: 3740165632.0000 - val_mae: 30836.1641\n",
            "Epoch 13/40\n",
            "12/12 [==============================] - 0s 5ms/step - loss: 1620961280.0000 - mae: 26903.9141 - val_loss: 3701379840.0000 - val_mae: 30612.6270\n",
            "Epoch 14/40\n",
            "12/12 [==============================] - 0s 6ms/step - loss: 1679425024.0000 - mae: 27869.2012 - val_loss: 3657571328.0000 - val_mae: 30355.0547\n",
            "Epoch 15/40\n",
            "12/12 [==============================] - 0s 5ms/step - loss: 1584965248.0000 - mae: 26478.3203 - val_loss: 3736016384.0000 - val_mae: 30325.2402\n",
            "Epoch 16/40\n",
            "12/12 [==============================] - 0s 5ms/step - loss: 1536241408.0000 - mae: 26034.2090 - val_loss: 3681843968.0000 - val_mae: 30001.2461\n",
            "Epoch 17/40\n",
            "12/12 [==============================] - 0s 5ms/step - loss: 1531114368.0000 - mae: 25817.7988 - val_loss: 3683670784.0000 - val_mae: 29978.2676\n",
            "Epoch 18/40\n",
            "12/12 [==============================] - 0s 5ms/step - loss: 1511158656.0000 - mae: 25864.0156 - val_loss: 3657526016.0000 - val_mae: 31357.2148\n",
            "Epoch 19/40\n",
            "12/12 [==============================] - 0s 5ms/step - loss: 1556674048.0000 - mae: 26033.9395 - val_loss: 3781980672.0000 - val_mae: 30162.7500\n",
            "Epoch 20/40\n",
            "12/12 [==============================] - 0s 5ms/step - loss: 1484836480.0000 - mae: 25448.1035 - val_loss: 3710337024.0000 - val_mae: 31947.8223\n",
            "Epoch 21/40\n",
            "12/12 [==============================] - 0s 5ms/step - loss: 1575579520.0000 - mae: 26600.9277 - val_loss: 3694547200.0000 - val_mae: 31842.1602\n",
            "Epoch 22/40\n",
            "12/12 [==============================] - 0s 5ms/step - loss: 1536393728.0000 - mae: 25901.5156 - val_loss: 3585344000.0000 - val_mae: 29415.0957\n",
            "Epoch 23/40\n",
            "12/12 [==============================] - 0s 5ms/step - loss: 1494918272.0000 - mae: 25188.0195 - val_loss: 3668829184.0000 - val_mae: 29827.9492\n",
            "Epoch 24/40\n",
            "12/12 [==============================] - 0s 5ms/step - loss: 1536068352.0000 - mae: 25787.6992 - val_loss: 3784892416.0000 - val_mae: 29634.2988\n",
            "Epoch 25/40\n",
            "12/12 [==============================] - 0s 5ms/step - loss: 1488707840.0000 - mae: 25157.9199 - val_loss: 3686761472.0000 - val_mae: 29222.6133\n",
            "Epoch 26/40\n",
            "12/12 [==============================] - 0s 5ms/step - loss: 1486403456.0000 - mae: 25280.5508 - val_loss: 3697052416.0000 - val_mae: 31439.6309\n",
            "Epoch 27/40\n",
            "12/12 [==============================] - 0s 7ms/step - loss: 1556932480.0000 - mae: 25978.4883 - val_loss: 3764647168.0000 - val_mae: 29296.5957\n",
            "Epoch 28/40\n",
            "12/12 [==============================] - 0s 5ms/step - loss: 1417934592.0000 - mae: 24529.7402 - val_loss: 3731325952.0000 - val_mae: 29092.3086\n",
            "Epoch 29/40\n",
            "12/12 [==============================] - 0s 7ms/step - loss: 1428785024.0000 - mae: 24771.7285 - val_loss: 3817532928.0000 - val_mae: 29068.9961\n",
            "Epoch 30/40\n",
            "12/12 [==============================] - 0s 7ms/step - loss: 1388921088.0000 - mae: 24305.4434 - val_loss: 3679316736.0000 - val_mae: 29596.1230\n",
            "Epoch 31/40\n",
            "12/12 [==============================] - 0s 5ms/step - loss: 1479821056.0000 - mae: 25649.8867 - val_loss: 3561981696.0000 - val_mae: 29527.9688\n",
            "Epoch 32/40\n",
            "12/12 [==============================] - 0s 7ms/step - loss: 1512052480.0000 - mae: 25748.2422 - val_loss: 3741212672.0000 - val_mae: 28950.9727\n",
            "Epoch 33/40\n",
            "12/12 [==============================] - 0s 6ms/step - loss: 1426187008.0000 - mae: 25199.0859 - val_loss: 3637624064.0000 - val_mae: 29519.5488\n",
            "Epoch 34/40\n",
            "12/12 [==============================] - 0s 5ms/step - loss: 1475553408.0000 - mae: 25091.7949 - val_loss: 3833177856.0000 - val_mae: 29296.1172\n",
            "Epoch 35/40\n",
            "12/12 [==============================] - 0s 5ms/step - loss: 1392461184.0000 - mae: 24134.0898 - val_loss: 3975075840.0000 - val_mae: 29414.9043\n",
            "Epoch 36/40\n",
            "12/12 [==============================] - 0s 5ms/step - loss: 1389389568.0000 - mae: 24147.5234 - val_loss: 3695317760.0000 - val_mae: 28901.4766\n",
            "Epoch 37/40\n",
            "12/12 [==============================] - 0s 5ms/step - loss: 1449012864.0000 - mae: 25065.4473 - val_loss: 3688112896.0000 - val_mae: 29684.2012\n",
            "Epoch 38/40\n",
            "12/12 [==============================] - 0s 7ms/step - loss: 1384233600.0000 - mae: 24513.2148 - val_loss: 3737526016.0000 - val_mae: 28820.6953\n",
            "Epoch 39/40\n",
            "12/12 [==============================] - 0s 8ms/step - loss: 1406221824.0000 - mae: 24469.5664 - val_loss: 3719586048.0000 - val_mae: 28943.5000\n",
            "Epoch 40/40\n",
            "12/12 [==============================] - 0s 5ms/step - loss: 1401006464.0000 - mae: 24216.6230 - val_loss: 3778775296.0000 - val_mae: 28671.1172\n"
          ]
        }
      ]
    },
    {
      "cell_type": "markdown",
      "metadata": {
        "id": "ZLmYIMDlQ4li"
      },
      "source": [
        "**Оцените полученные результаты**"
      ]
    },
    {
      "cell_type": "code",
      "metadata": {
        "id": "s6aKc0gzQ4lj",
        "colab": {
          "base_uri": "https://localhost:8080/",
          "height": 327
        },
        "outputId": "d8da4848-656a-4fb5-9340-810e2e2c5dd3"
      },
      "source": [
        "pd.DataFrame(history.history).plot()\n",
        "plt.ylabel('accuracy')\n",
        "plt.xlabel('epoch')\n",
        "print(history.history)"
      ],
      "execution_count": 80,
      "outputs": [
        {
          "output_type": "stream",
          "name": "stdout",
          "text": [
            "{'loss': [21724180480.0, 9947482112.0, 4222254080.0, 3646897152.0, 3113831936.0, 2684404736.0, 2375275008.0, 2107910912.0, 1884541312.0, 1718040320.0, 1648748416.0, 1643322880.0, 1620961280.0, 1679425024.0, 1584965248.0, 1536241408.0, 1531114368.0, 1511158656.0, 1556674048.0, 1484836480.0, 1575579520.0, 1536393728.0, 1494918272.0, 1536068352.0, 1488707840.0, 1486403456.0, 1556932480.0, 1417934592.0, 1428785024.0, 1388921088.0, 1479821056.0, 1512052480.0, 1426187008.0, 1475553408.0, 1392461184.0, 1389389568.0, 1449012864.0, 1384233600.0, 1406221824.0, 1401006464.0], 'mae': [115635.203125, 54551.18359375, 47415.23828125, 39690.90234375, 41443.65234375, 36784.3203125, 34021.49609375, 31666.173828125, 29469.53515625, 27605.595703125, 27109.623046875, 27016.384765625, 26903.9140625, 27869.201171875, 26478.3203125, 26034.208984375, 25817.798828125, 25864.015625, 26033.939453125, 25448.103515625, 26600.927734375, 25901.515625, 25188.01953125, 25787.69921875, 25157.919921875, 25280.55078125, 25978.48828125, 24529.740234375, 24771.728515625, 24305.443359375, 25649.88671875, 25748.2421875, 25199.0859375, 25091.794921875, 24134.08984375, 24147.5234375, 25065.447265625, 24513.21484375, 24469.56640625, 24216.623046875], 'val_loss': [9358500864.0, 4888838144.0, 4156203008.0, 4306401280.0, 3679907584.0, 3649569280.0, 3408238336.0, 3246403328.0, 3332939776.0, 3469203712.0, 3695348736.0, 3740165632.0, 3701379840.0, 3657571328.0, 3736016384.0, 3681843968.0, 3683670784.0, 3657526016.0, 3781980672.0, 3710337024.0, 3694547200.0, 3585344000.0, 3668829184.0, 3784892416.0, 3686761472.0, 3697052416.0, 3764647168.0, 3731325952.0, 3817532928.0, 3679316736.0, 3561981696.0, 3741212672.0, 3637624064.0, 3833177856.0, 3975075840.0, 3695317760.0, 3688112896.0, 3737526016.0, 3719586048.0, 3778775296.0], 'val_mae': [67670.6171875, 43880.94140625, 43480.90625, 48645.52734375, 38096.875, 40879.90234375, 36367.69921875, 32164.537109375, 31414.076171875, 30976.732421875, 31188.55078125, 30836.1640625, 30612.626953125, 30355.0546875, 30325.240234375, 30001.24609375, 29978.267578125, 31357.21484375, 30162.75, 31947.822265625, 31842.16015625, 29415.095703125, 29827.94921875, 29634.298828125, 29222.61328125, 31439.630859375, 29296.595703125, 29092.30859375, 29068.99609375, 29596.123046875, 29527.96875, 28950.97265625, 29519.548828125, 29296.1171875, 29414.904296875, 28901.4765625, 29684.201171875, 28820.6953125, 28943.5, 28671.1171875]}\n"
          ]
        },
        {
          "output_type": "display_data",
          "data": {
            "image/png": "[encoded data removed]",
            "text/plain": [
              "<Figure size 432x288 with 1 Axes>"
            ]
          },
          "metadata": {
            "needs_background": "light"
          }
        }
      ]
    },
    {
      "cell_type": "code",
      "metadata": {
        "id": "LliqSq9HQ4lj",
        "colab": {
          "base_uri": "https://localhost:8080/"
        },
        "outputId": "fc54dbb8-512e-49c6-8672-c00e56028613"
      },
      "source": [
        "scores = model.evaluate(X_val, y_val, verbose=1)"
      ],
      "execution_count": 81,
      "outputs": [
        {
          "output_type": "stream",
          "name": "stdout",
          "text": [
            "10/10 [==============================] - 0s 2ms/step - loss: 1251861248.0000 - mae: 24653.3945\n"
          ]
        }
      ]
    },
    {
      "cell_type": "markdown",
      "metadata": {
        "id": "Jm633l23Q4lj"
      },
      "source": [
        "### Предсказание"
      ]
    },
    {
      "cell_type": "code",
      "metadata": {
        "id": "hwSwKfWMQ4lk",
        "colab": {
          "base_uri": "https://localhost:8080/"
        },
        "outputId": "251eeea2-eca8-4dec-a74a-85b9967cfb6a"
      },
      "source": [
        "preds = model.predict(test_edited)\n",
        "preds"
      ],
      "execution_count": 82,
      "outputs": [
        {
          "output_type": "execute_result",
          "data": {
            "text/plain": [
              "array([[151205.88],\n",
              "       [187232.56],\n",
              "       [186737.77],\n",
              "       ...,\n",
              "       [188790.11],\n",
              "       [101548.17],\n",
              "       [238065.05]], dtype=float32)"
            ]
          },
          "metadata": {},
          "execution_count": 82
        }
      ]
    },
    {
      "cell_type": "code",
      "metadata": {
        "id": "527EzMWkQ4lk",
        "colab": {
          "base_uri": "https://localhost:8080/",
          "height": 423
        },
        "outputId": "e6110b7c-31c1-4c12-fa53-c15be661f4b4"
      },
      "source": [
        "output = pd.DataFrame(\n",
        "{\n",
        "    'Id':test_data['Id'],\n",
        "    'SalePrice': np.squeeze(preds)\n",
        "})\n",
        "output"
      ],
      "execution_count": 83,
      "outputs": [
        {
          "output_type": "execute_result",
          "data": {
            "text/html": [
              "<div>\n",
              "<style scoped>\n",
              "    .dataframe tbody tr th:only-of-type {\n",
              "        vertical-align: middle;\n",
              "    }\n",
              "\n",
              "    .dataframe tbody tr th {\n",
              "        vertical-align: top;\n",
              "    }\n",
              "\n",
              "    .dataframe thead th {\n",
              "        text-align: right;\n",
              "    }\n",
              "</style>\n",
              "<table border=\"1\" class=\"dataframe\">\n",
              "  <thead>\n",
              "    <tr style=\"text-align: right;\">\n",
              "      <th></th>\n",
              "      <th>Id</th>\n",
              "      <th>SalePrice</th>\n",
              "    </tr>\n",
              "  </thead>\n",
              "  <tbody>\n",
              "    <tr>\n",
              "      <th>0</th>\n",
              "      <td>1461</td>\n",
              "      <td>151205.875000</td>\n",
              "    </tr>\n",
              "    <tr>\n",
              "      <th>1</th>\n",
              "      <td>1462</td>\n",
              "      <td>187232.562500</td>\n",
              "    </tr>\n",
              "    <tr>\n",
              "      <th>2</th>\n",
              "      <td>1463</td>\n",
              "      <td>186737.765625</td>\n",
              "    </tr>\n",
              "    <tr>\n",
              "      <th>3</th>\n",
              "      <td>1464</td>\n",
              "      <td>186188.484375</td>\n",
              "    </tr>\n",
              "    <tr>\n",
              "      <th>4</th>\n",
              "      <td>1465</td>\n",
              "      <td>182884.046875</td>\n",
              "    </tr>\n",
              "    <tr>\n",
              "      <th>...</th>\n",
              "      <td>...</td>\n",
              "      <td>...</td>\n",
              "    </tr>\n",
              "    <tr>\n",
              "      <th>1454</th>\n",
              "      <td>2915</td>\n",
              "      <td>92885.148438</td>\n",
              "    </tr>\n",
              "    <tr>\n",
              "      <th>1455</th>\n",
              "      <td>2916</td>\n",
              "      <td>116313.210938</td>\n",
              "    </tr>\n",
              "    <tr>\n",
              "      <th>1456</th>\n",
              "      <td>2917</td>\n",
              "      <td>188790.109375</td>\n",
              "    </tr>\n",
              "    <tr>\n",
              "      <th>1457</th>\n",
              "      <td>2918</td>\n",
              "      <td>101548.171875</td>\n",
              "    </tr>\n",
              "    <tr>\n",
              "      <th>1458</th>\n",
              "      <td>2919</td>\n",
              "      <td>238065.046875</td>\n",
              "    </tr>\n",
              "  </tbody>\n",
              "</table>\n",
              "<p>1459 rows × 2 columns</p>\n",
              "</div>"
            ],
            "text/plain": [
              "        Id      SalePrice\n",
              "0     1461  151205.875000\n",
              "1     1462  187232.562500\n",
              "2     1463  186737.765625\n",
              "3     1464  186188.484375\n",
              "4     1465  182884.046875\n",
              "...    ...            ...\n",
              "1454  2915   92885.148438\n",
              "1455  2916  116313.210938\n",
              "1456  2917  188790.109375\n",
              "1457  2918  101548.171875\n",
              "1458  2919  238065.046875\n",
              "\n",
              "[1459 rows x 2 columns]"
            ]
          },
          "metadata": {},
          "execution_count": 83
        }
      ]
    },
    {
      "cell_type": "markdown",
      "metadata": {
        "id": "7mbn1M7HQ4ll"
      },
      "source": [
        "\n",
        "**При выполнении:**\n",
        "\n",
        "Выведите отчет нейросетевой регрессионной модели, для  прогнозирование цен на жилье. \n",
        "\n",
        "Подберить разные комбинации гиперпараметров таким образом, чтобы получить лучший результат на тестовом наборе данных.\n",
        "\n",
        "Попробуйте использовать разное количество нейронов на входном слое, например 100, 150, 200 300.\n",
        "\n",
        "Добавьте в нейронную сеть скрытый слой с разным количеством нейронов.\n",
        "\n",
        "Используйте разное количество эпох: 10, 15, 20, 25, 30.\n",
        "\n",
        "Используйте разные размеры мини-выборки (batch_size): 10, 50, 100, 200.\n",
        "\n",
        "Попробуйте использовать разные значения оптимизатора `optimizers` и функции потерь `loss`. Сравните полученые результаты.\n",
        "\n",
        "**Вопросы:**\n",
        "\n",
        "Как выше перечисленные параметры влияют на полученный вами результат? \n",
        "\n",
        "Что такое эпоха (Epoch)? В чем отличие от итерации (Iteration)?\n",
        "\n",
        "Что такое функция активации? Какие вам известны?\n",
        "\n",
        "Что такое MSE(Mean Squared Error) - Средняя квадратичная ошибка? Что такое MAE(Mean Absolute Error)? Для чего используются."
      ]
    }
  ]
}